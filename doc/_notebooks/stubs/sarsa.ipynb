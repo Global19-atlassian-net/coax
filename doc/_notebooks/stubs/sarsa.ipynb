{
 "cells": [
  {
   "cell_type": "code",
   "execution_count": null,
   "metadata": {},
   "outputs": [],
   "source": [
    "!pip install --upgrade coax"
   ]
  },
  {
   "cell_type": "code",
   "execution_count": null,
   "metadata": {},
   "outputs": [],
   "source": [
    "import gym\n",
    "import coax\n",
    "\n",
    "\n",
    "# pick environment\n",
    "env = gym.make(...)\n",
    "env = coax.wrappers.TrainMonitor(env)\n",
    "\n",
    "\n",
    "# show logs from TrainMonitor\n",
    "coax.enable_logging()\n",
    "\n",
    "\n",
    "class MyFuncApprox(coax.FuncApprox):\n",
    "    def body(self, S, is_training):\n",
    "        # custom haiku function\n",
    "        ...\n",
    "\n",
    "\n",
    "# define function approximator\n",
    "func = MyFuncApprox(env)\n",
    "q = coax.Q(func)\n",
    "pi = coax.EpsilonGreedy(q, epsilon=0.1)\n",
    "\n",
    "\n",
    "# specify how to update q-function\n",
    "sarsa = coax.td_learning.Sarsa(q)\n",
    "\n",
    "\n",
    "# specify how to trace the transitions\n",
    "cache = coax.reward_tracing.NStepCache(env, n=1, gamma=0.9)\n",
    "\n",
    "\n",
    "for ep in range(100):\n",
    "    pi.epsilon = ...  # exploration schedule\n",
    "    s = env.reset()\n",
    "\n",
    "    for t in range(env.spec.max_episode_steps):\n",
    "        a = pi(s)\n",
    "        s_next, r, done, info = env.step(a)\n",
    "\n",
    "        # add transition to cache\n",
    "        cache.add(s, a, r, done)\n",
    "\n",
    "        # update\n",
    "        while cache:\n",
    "            transition_batch = cache.pop()\n",
    "            sarsa.update(transition_batch)\n",
    "\n",
    "        if done:\n",
    "            break\n",
    "\n",
    "        s = s_next\n"
   ]
  }
 ],
 "metadata": {
  "kernelspec": {
   "display_name": "Python 3",
   "language": "python",
   "name": "python3"
  },
  "language_info": {
   "codemirror_mode": {
    "name": "ipython",
    "version": 3
   },
   "file_extension": ".py",
   "mimetype": "text/x-python",
   "name": "python",
   "nbconvert_exporter": "python",
   "pygments_lexer": "ipython3",
   "version": "3.8.2"
  }
 },
 "nbformat": 4,
 "nbformat_minor": 2
}