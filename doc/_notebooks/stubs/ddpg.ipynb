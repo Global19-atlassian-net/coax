{
 "cells": [
  {
   "cell_type": "code",
   "execution_count": null,
   "metadata": {},
   "outputs": [],
   "source": [
    "!pip install --upgrade coax"
   ]
  },
  {
   "cell_type": "code",
   "execution_count": null,
   "metadata": {},
   "outputs": [],
   "source": [
    "import gym\n",
    "import coax\n",
    "\n",
    "\n",
    "# pick environment\n",
    "env = gym.make(...)\n",
    "env = coax.wrappers.TrainMonitor(env)\n",
    "\n",
    "\n",
    "# show logs from TrainMonitor\n",
    "coax.enable_logging()\n",
    "\n",
    "\n",
    "class MyFuncApprox(coax.FuncApprox):\n",
    "    def body(self, S):\n",
    "        # custom haiku function\n",
    "        ...\n",
    "\n",
    "\n",
    "# define function approximator\n",
    "func = coax.MyFuncApprox(env)\n",
    "pi = coax.Policy(func)\n",
    "q = coax.Q(func)\n",
    "\n",
    "\n",
    "# target networks\n",
    "pi_targ = pi.copy()\n",
    "q_targ = q.copy()\n",
    "\n",
    "\n",
    "# specify how to update policy and value function\n",
    "determ_pg = coax.policy_objectives.DeterministicPG(pi, q)\n",
    "qlearning = coax.td_learning.QLearningMode(q, pi_targ, q_targ)  # or use Sarsa\n",
    "\n",
    "\n",
    "# specify how to trace the transitions\n",
    "buffer = coax.ExperienceReplayBuffer(env, n=1, gamma=0.9, capacity=1000000)\n",
    "\n",
    "\n",
    "for ep in range(100):\n",
    "    s = env.reset()\n",
    "\n",
    "    for t in range(env.spec.max_episode_steps):\n",
    "        a = pi(s)\n",
    "        s_next, r, done, info = env.step(a)\n",
    "\n",
    "        # add transition to buffer\n",
    "        buffer.add(s, a, r, done)\n",
    "\n",
    "        # update\n",
    "        transition_batch = buffer.sample(batch_size=32)\n",
    "        determ_pg.update(transition_batch)\n",
    "        qlearning.update(transition_batch)\n",
    "\n",
    "        # periodically sync target models\n",
    "        if ep % 10 == 0:\n",
    "            pi_targ.smooth_update(pi, tau=1.0)\n",
    "            q_targ.smooth_update(q, tau=1.0)\n",
    "\n",
    "        if done:\n",
    "            break\n",
    "\n",
    "        s = s_next\n"
   ]
  }
 ],
 "metadata": {
  "kernelspec": {
   "display_name": "Python 3",
   "language": "python",
   "name": "python3"
  },
  "language_info": {
   "codemirror_mode": {
    "name": "ipython",
    "version": 3
   },
   "file_extension": ".py",
   "mimetype": "text/x-python",
   "name": "python",
   "nbconvert_exporter": "python",
   "pygments_lexer": "ipython3",
   "version": "3.8.2"
  }
 },
 "nbformat": 4,
 "nbformat_minor": 2
}