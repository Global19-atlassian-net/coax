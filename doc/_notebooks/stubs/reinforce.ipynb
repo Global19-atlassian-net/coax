{
 "cells": [
  {
   "cell_type": "code",
   "execution_count": null,
   "metadata": {},
   "outputs": [],
   "source": [
    "!pip install --upgrade coax"
   ]
  },
  {
   "cell_type": "code",
   "execution_count": null,
   "metadata": {},
   "outputs": [],
   "source": [
    "import gym\n",
    "import coax\n",
    "\n",
    "\n",
    "# pick environment\n",
    "env = gym.make(...)\n",
    "env = coax.wrappers.TrainMonitor(env)\n",
    "\n",
    "\n",
    "# show logs from TrainMonitor\n",
    "coax.enable_logging()\n",
    "\n",
    "\n",
    "class MyFuncApprox(coax.FuncApprox):\n",
    "    def body(self, S, is_training):\n",
    "        # custom haiku function\n",
    "        ...\n",
    "\n",
    "\n",
    "# define function approximator\n",
    "func = MyFuncApprox(env)\n",
    "pi = coax.Policy(func)\n",
    "\n",
    "\n",
    "# specify how to update policy and value function\n",
    "vanilla_pg = coax.policy_objectives.VanillaPG(pi)\n",
    "\n",
    "\n",
    "# specify how to trace the transitions\n",
    "tracer = coax.reward_tracing.MonteCarlo(gamma=0.9)\n",
    "\n",
    "\n",
    "for ep in range(100):\n",
    "    s = env.reset()\n",
    "\n",
    "    for t in range(env.spec.max_episode_steps):\n",
    "        a, logp = pi(s, return_logp=True)\n",
    "        s_next, r, done, info = env.step(a)\n",
    "\n",
    "        # trace rewards to create training data\n",
    "        # N.B. vanilla-pg doesn't use logp but we include it to make it easy to\n",
    "        # swap in another policy updater that does require it, e.g. ppo-clip\n",
    "        tracer.add(s, a, r, done, logp)\n",
    "\n",
    "        # update\n",
    "        while tracer:\n",
    "            transition_batch = tracer.pop()\n",
    "            Gn = transition_batch.Rn  # 'Rn' is full return 'Gn' in MC-cache\n",
    "            vanilla_pg.update(transition_batch, Adv=Gn)\n",
    "\n",
    "        if done:\n",
    "            break\n",
    "\n",
    "        s = s_next\n"
   ]
  }
 ],
 "metadata": {
  "kernelspec": {
   "display_name": "Python 3",
   "language": "python",
   "name": "python3"
  },
  "language_info": {
   "codemirror_mode": {
    "name": "ipython",
    "version": 3
   },
   "file_extension": ".py",
   "mimetype": "text/x-python",
   "name": "python",
   "nbconvert_exporter": "python",
   "pygments_lexer": "ipython3",
   "version": "3.8.2"
  }
 },
 "nbformat": 4,
 "nbformat_minor": 2
}