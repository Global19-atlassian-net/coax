{
 "cells": [
  {
   "cell_type": "code",
   "execution_count": 6,
   "metadata": {},
   "outputs": [],
   "source": [
    "from sklearn.datasets import load_iris\n",
    "\n",
    "df = load_iris(as_frame=True).frame\n",
    "df.to_csv('/home/kris/Public/iris.tsv', sep='\\t')"
   ]
  },
  {
   "cell_type": "code",
   "execution_count": 45,
   "metadata": {},
   "outputs": [
    {
     "data": {
      "text/plain": [
       "<matplotlib.axes._subplots.AxesSubplot at 0x7f913c62a6d0>"
      ]
     },
     "execution_count": 45,
     "metadata": {},
     "output_type": "execute_result"
    },
    {
     "data": {
      "image/png": "[encoded data removed]",
      "text/plain": [
       "<Figure size 936x504 with 1 Axes>"
      ]
     },
     "metadata": {},
     "output_type": "display_data"
    }
   ],
   "source": [
    "x = list('abc')\n",
    "\n",
    "rng = jax.random.PRNGKey(13)\n",
    "\n",
    "rnd = np.random.RandomState(rng[1])\n",
    "\n",
    "pd.Series(rnd.randn(1000)).hist(bins=50)\n",
    "pd.Series(rnd.randn(1000) * np.exp(-np.e)).hist(bins=50)\n",
    "jax.ran"
   ]
  },
  {
   "cell_type": "code",
   "execution_count": 51,
   "metadata": {},
   "outputs": [
    {
     "data": {
      "text/plain": [
       "DeviceArray(False, dtype=bool)"
      ]
     },
     "execution_count": 51,
     "metadata": {},
     "output_type": "execute_result"
    }
   ],
   "source": [
    "jax.random.bernoulli(rng, p=0.5)"
   ]
  },
  {
   "cell_type": "code",
   "execution_count": null,
   "metadata": {
    "scrolled": false
   },
   "outputs": [],
   "source": [
    "%reload coax\n",
    "\n",
    "import ray\n",
    "from ray import tune\n",
    "from ray.rllib.agents.trainer_template import build_trainer\n",
    "from coax.contrib.rllib import DQNPolicy\n",
    "\n",
    "\n",
    "env = gym.make('FrozenLakeNonSlippery-v0')\n",
    "\n",
    "\n",
    "# <class 'ray.rllib.agents.trainer_template.MyCustomTrainer'>\n",
    "DQNTrainer = build_trainer(\n",
    "    name='DQNTrainer',\n",
    "    default_policy=DQNPolicy,\n",
    "    default_config=DQNPolicy.DEFAULT_CONFIG)\n",
    "\n",
    "pprint(DQNPolicy.DEFAULT_CONFIG)\n",
    "\n",
    "def forward_pass(S, is_training):\n",
    "    # one-hot encode?\n",
    "    if jnp.issubdtype(S.dtype, jnp.integer):\n",
    "        S = hk.one_hot(S, env.observation_space.n)\n",
    "\n",
    "    values = hk.Linear(env.action_space.n, w_init=jnp.zeros)\n",
    "    return values(S)  # shape: (batch_size, num_actions)\n",
    "    \n",
    "    \n",
    "\n",
    "if not ray.is_initialized():\n",
    "    ray.init()\n",
    "shutil.rmtree('/home/kris/ray_results/')\n",
    "\n",
    "\n",
    "tune.run(DQNTrainer, config={\n",
    "    'env': 'FrozenLakeNonSlippery-v0',\n",
    "    'num_workers': 2,\n",
    "    'func_q': forward_pass,\n",
    "    'learning_rate': 0.01,\n",
    "    'log_level': 'INFO',\n",
    "})"
   ]
  },
  {
   "cell_type": "code",
   "execution_count": null,
   "metadata": {},
   "outputs": [],
   "source": []
  }
 ],
 "metadata": {
  "kernelspec": {
   "display_name": "Python 3",
   "language": "python",
   "name": "python3"
  },
  "language_info": {
   "codemirror_mode": {
    "name": "ipython",
    "version": 3
   },
   "file_extension": ".py",
   "mimetype": "text/x-python",
   "name": "python",
   "nbconvert_exporter": "python",
   "pygments_lexer": "ipython3",
   "version": "3.8.2"
  }
 },
 "nbformat": 4,
 "nbformat_minor": 2
}
