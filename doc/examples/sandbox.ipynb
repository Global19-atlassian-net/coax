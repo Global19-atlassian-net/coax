{
 "cells": [
  {
   "cell_type": "code",
   "execution_count": 14,
   "metadata": {},
   "outputs": [
    {
     "name": "stdout",
     "output_type": "stream",
     "text": [
      "ExampleData(\n",
      "  inputs=Inputs(\n",
      "    args=ArgsType1(\n",
      "      S=array(shape=(1, 4), dtype=float32)\n",
      "      A=array(shape=(1, 2), dtype=float32)\n",
      "      is_training=True)\n",
      "    static_argnums=(2,))\n",
      "  output={\n",
      "    'logvar': array(shape=(1, 4), dtype=float32)\n",
      "    'mu': array(shape=(1, 4), dtype=float32)})\n",
      "\n",
      "ExampleData(\n",
      "  inputs=Inputs(\n",
      "    args=ArgsType2(\n",
      "      S=array(shape=(1, 4), dtype=float32)\n",
      "      is_training=True)\n",
      "    static_argnums=(1,))\n",
      "  output={\n",
      "    'logvar': array(shape=(1, 2, 4), dtype=float32)\n",
      "    'mu': array(shape=(1, 2, 4), dtype=float32)})\n",
      "\n"
     ]
    },
    {
     "name": "stderr",
     "output_type": "stream",
     "text": [
      "/home/kris/git_tree/coax/coax/utils/_array.py:519: RuntimeWarning: overflow encountered in subtract\n",
      "  sizes = onp.clip(space.high - space.low, 0, 100)\n"
     ]
    }
   ],
   "source": [
    "%reload coax\n",
    "import coax\n",
    "env = gym.make('CartPole-v0')\n",
    "\n",
    "print(coax.DynamicsModel.example_data(env.observation_space, env.action_space).type1)\n",
    "print()\n",
    "print(coax.DynamicsModel.example_data(env.observation_space, env.action_space).type2)\n",
    "print()\n",
    "# print(coax.Policy.example_data(env.observation_space, env.action_space))\n",
    "# print()\n",
    "# print(coax.Q.example_data(env.observation_space, env.action_space).type1)\n",
    "# print(coax.Q.example_data(env.observation_space, env.action_space).type2)\n",
    "# print()\n",
    "# print(coax.V.example_data(env.observation_space))\n"
   ]
  },
  {
   "cell_type": "code",
   "execution_count": 20,
   "metadata": {},
   "outputs": [
    {
     "name": "stdout",
     "output_type": "stream",
     "text": [
      "[  1.31489027  11.16517533   0.36651658 -12.74421043]\n",
      "[  1.326839   11.147123    0.3656906 -12.744011 ]\n",
      "[array([  1.3207107,  11.142469 ,   0.3662266, -12.7462225], dtype=float32), array([  1.306798 ,  11.128199 ,   0.3669182, -12.750051 ], dtype=float32)]\n"
     ]
    },
    {
     "data": {
      "image/png": "[encoded data removed]",
      "text/plain": [
       "<Figure size 936x504 with 1 Axes>"
      ]
     },
     "metadata": {},
     "output_type": "display_data"
    }
   ],
   "source": [
    "\n",
    "\n",
    "def check_onehot(S):\n",
    "    if jnp.issubdtype(S.dtype, jnp.integer):\n",
    "        return hk.one_hot(S, discrete.n)\n",
    "    return S\n",
    "\n",
    "\n",
    "def func_type1(S, A, is_training):\n",
    "    # output shape\n",
    "    output_shape = env.observation_space.shape\n",
    "    batch_norm = hk.BatchNorm(False, False, 0.99)\n",
    "    seq = hk.Sequential((\n",
    "        hk.Flatten(),\n",
    "        hk.Linear(8), jax.nn.relu,\n",
    "        partial(hk.dropout, hk.next_rng_key(), 0.25 if is_training else 0.),\n",
    "        partial(batch_norm, is_training=is_training),\n",
    "        hk.Linear(8), jnp.tanh,\n",
    "        hk.Linear(onp.prod(output_shape), w_init=jnp.zeros),\n",
    "        hk.Reshape(output_shape),\n",
    "    ))\n",
    "    S = check_onehot(S)\n",
    "    X = jax.vmap(jnp.kron)(S, A)\n",
    "    mu = S + seq(X)\n",
    "    return {'mu': mu, 'logvar': jnp.full_like(mu, -10)}\n",
    "\n",
    "\n",
    "def func_type2(S, is_training):\n",
    "    # output shape\n",
    "    output_shape = (env.action_space.n, *env.observation_space.shape)\n",
    "    batch_norm = hk.BatchNorm(False, False, 0.99)\n",
    "    seq = hk.Sequential((\n",
    "        hk.Flatten(),\n",
    "        hk.Linear(8), jax.nn.relu,\n",
    "        partial(hk.dropout, hk.next_rng_key(), 0.25 if is_training else 0.),\n",
    "        partial(batch_norm, is_training=is_training),\n",
    "        hk.Linear(8), jnp.tanh,\n",
    "        hk.Linear(onp.prod(output_shape), w_init=jnp.zeros),\n",
    "        hk.Reshape(output_shape),\n",
    "    ))\n",
    "    S = check_onehot(S)\n",
    "    mu = S + seq(S)\n",
    "    return {'mu': mu, 'logvar': jnp.full_like(mu, -10)}\n",
    "\n",
    "\n",
    "p1 = coax.DynamicsModel(func_type1, env.observation_space, env.action_space)\n",
    "p2 = coax.DynamicsModel(func_type2, env.observation_space, env.action_space)\n",
    "\n",
    "s = coax.safe_sample(env.observation_space)\n",
    "a = env.action_space.sample()\n",
    "\n",
    "\n",
    "print(s)\n",
    "xs, ys = jnp.stack([p2(s, a)[:2] for _ in range(100)]).T\n",
    "plt.scatter(s[0:1], s[1:2])\n",
    "plt.scatter(xs, ys)\n",
    "\n",
    "print(p2(s, a))  # [0.4924, 0.4847, 0.4188, 0.8796]\n",
    "print(p2(s))     # array([0., 0.])"
   ]
  },
  {
   "cell_type": "code",
   "execution_count": 12,
   "metadata": {},
   "outputs": [
    {
     "ename": "TypeError",
     "evalue": "p() takes 1 positional argument but 2 were given",
     "output_type": "error",
     "traceback": [
      "\u001b[0;31m---------------------------------------------------------------------------\u001b[0m",
      "\u001b[0;31mTypeError\u001b[0m                                 Traceback (most recent call last)",
      "\u001b[0;32m<ipython-input-12-c7acdf4fac12>\u001b[0m in \u001b[0;36m<module>\u001b[0;34m\u001b[0m\n\u001b[1;32m      2\u001b[0m     \u001b[0;32mreturn\u001b[0m \u001b[0ms\u001b[0m \u001b[0;34m*\u001b[0m \u001b[0;36m13\u001b[0m\u001b[0;34m\u001b[0m\u001b[0;34m\u001b[0m\u001b[0m\n\u001b[1;32m      3\u001b[0m \u001b[0;34m\u001b[0m\u001b[0m\n\u001b[0;32m----> 4\u001b[0;31m \u001b[0mp\u001b[0m\u001b[0;34m(\u001b[0m\u001b[0ms\u001b[0m\u001b[0;34m,\u001b[0m \u001b[0ma\u001b[0m\u001b[0;34m)\u001b[0m\u001b[0;34m\u001b[0m\u001b[0;34m\u001b[0m\u001b[0m\n\u001b[0m",
      "\u001b[0;31mTypeError\u001b[0m: p() takes 1 positional argument but 2 were given"
     ]
    }
   ],
   "source": [
    "def p(s):\n",
    "    return s * 13\n",
    "\n",
    "p(s, a)"
   ]
  },
  {
   "cell_type": "code",
   "execution_count": 8,
   "metadata": {},
   "outputs": [],
   "source": []
  },
  {
   "cell_type": "code",
   "execution_count": 44,
   "metadata": {},
   "outputs": [
    {
     "data": {
      "text/plain": [
       "(3, 4)"
      ]
     },
     "execution_count": 44,
     "metadata": {},
     "output_type": "execute_result"
    }
   ],
   "source": [
    "proba_dist = coax.proba_dists.ProbaDist(env.observation_space)\n",
    "jnp.concatenate([proba_dist.preprocess_variate(s)] * 3).shape"
   ]
  },
  {
   "cell_type": "code",
   "execution_count": 34,
   "metadata": {},
   "outputs": [
    {
     "name": "stdout",
     "output_type": "stream",
     "text": [
      "[0.86147307 0.95634397 0.16891363 0.32490073]\n",
      "[1.9287863  6.713625   0.03634137 2.3091335 ]\n",
      "[1.9316001  6.714117   0.03567713 2.4450932 ]\n",
      "[1.972897  6.6620464 0.034614  2.329832 ]\n",
      "[1.9657674  6.7128773  0.03661525 2.3622189 ]\n",
      "[1.9446254  6.6932793  0.03715074 2.4681492 ]\n",
      "[1.9456129 6.6337357 0.0360142 2.3984776]\n",
      "[1.940661   6.6858845  0.03601834 2.5070992 ]\n",
      "[1.9558325  6.6058197  0.03518942 2.368702  ]\n",
      "[1.9295654  6.7178383  0.03541228 2.401804  ]\n",
      "[1.963522   6.6830616  0.03230423 2.3312092 ]\n"
     ]
    }
   ],
   "source": [
    "\n"
   ]
  },
  {
   "cell_type": "code",
   "execution_count": 13,
   "metadata": {},
   "outputs": [
    {
     "data": {
      "text/plain": [
       "Inputs(args={'a': 13, 'b': 11}, static_argnums=7)"
      ]
     },
     "execution_count": 13,
     "metadata": {},
     "output_type": "execute_result"
    }
   ],
   "source": [
    "from typing import NamedTuple, Any, Tuple\n",
    "\n",
    "\n",
    "class PrettyReprMixin:\n",
    "    def __repr__(self):\n",
    "        return _repr(self)\n",
    "\n",
    "\n",
    "def _repr(o, d=0):\n",
    "    assert False, type(o)\n",
    "    i = \"  \"  # indentation string\n",
    "    if isinstance(o, (jnp.ndarray, onp.ndarray)):\n",
    "        return f\"array(shape={o.shape}, dtype={str(o.dtype)})\"\n",
    "    if hasattr(o, '_asdict'):\n",
    "        sep = '\\n' + i * (d + 1)\n",
    "        body = sep + sep.join(f\"{k}={_repr(v, d + 1)}\" for k, v in o._asdict().items())\n",
    "        return f\"{type(o).__name__}({body})\"\n",
    "    if isinstance(o, Mapping):\n",
    "        sep = '\\n' + i * (d + 1)\n",
    "        body = sep.join(f\"'{k}': {_repr(v, d + 1)}\" for k, v in o.items())\n",
    "        return f\"{{{body}}}\"\n",
    "    return repr(o)\n",
    "\n",
    "\n",
    "class Inputs(PrettyReprMixin, NamedTuple):\n",
    "    args: Any\n",
    "    static_argnums: Tuple[int, ...]\n",
    "        \n",
    "\n",
    "\n",
    "data = Inputs(args={'a': 13, 'b': 11}, static_argnums=7)\n",
    "data"
   ]
  },
  {
   "cell_type": "code",
   "execution_count": 3,
   "metadata": {},
   "outputs": [
    {
     "ename": "TypeError",
     "evalue": "__new__() got an unexpected keyword argument 'S'",
     "output_type": "error",
     "traceback": [
      "\u001b[0;31m---------------------------------------------------------------------------\u001b[0m",
      "\u001b[0;31mTypeError\u001b[0m                                 Traceback (most recent call last)",
      "\u001b[0;32m<ipython-input-3-ad4b1e8b2cd0>\u001b[0m in \u001b[0;36m<module>\u001b[0;34m\u001b[0m\n\u001b[0;32m----> 1\u001b[0;31m \u001b[0mcoax\u001b[0m\u001b[0;34m.\u001b[0m\u001b[0m_core\u001b[0m\u001b[0;34m.\u001b[0m\u001b[0mdynamics_model\u001b[0m\u001b[0;34m.\u001b[0m\u001b[0mArgsType1\u001b[0m\u001b[0;34m(\u001b[0m\u001b[0mS\u001b[0m\u001b[0;34m=\u001b[0m\u001b[0;36m13\u001b[0m\u001b[0;34m,\u001b[0m \u001b[0mA\u001b[0m\u001b[0;34m=\u001b[0m\u001b[0;36m7\u001b[0m\u001b[0;34m,\u001b[0m \u001b[0mis_training\u001b[0m\u001b[0;34m=\u001b[0m\u001b[0;32mTrue\u001b[0m\u001b[0;34m)\u001b[0m\u001b[0;34m\u001b[0m\u001b[0;34m\u001b[0m\u001b[0m\n\u001b[0m",
      "\u001b[0;31mTypeError\u001b[0m: __new__() got an unexpected keyword argument 'S'"
     ]
    }
   ],
   "source": [
    "coax._core.dynamics_model.ArgsType1(S=13, A=7, is_training=True)"
   ]
  }
 ],
 "metadata": {
  "kernelspec": {
   "display_name": "Python 3",
   "language": "python",
   "name": "python3"
  }
 },
 "nbformat": 4,
 "nbformat_minor": 2
}
